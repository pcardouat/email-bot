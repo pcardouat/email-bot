{
  "nbformat": 4,
  "nbformat_minor": 0,
  "metadata": {
    "colab": {
      "provenance": []
    },
    "kernelspec": {
      "name": "python3",
      "display_name": "Python 3"
    },
    "language_info": {
      "name": "python"
    }
  },
  "cells": [
    {
      "cell_type": "code",
      "execution_count": 1,
      "metadata": {
        "id": "TNyL03f6bM4M",
        "colab": {
          "base_uri": "https://localhost:8080/"
        },
        "outputId": "28b13244-b691-4544-81c7-1b5ecaa8868a"
      },
      "outputs": [
        {
          "output_type": "stream",
          "name": "stdout",
          "text": [
            "\u001b[2K     \u001b[90m━━━━━━━━━━━━━━━━━━━━━━━━━━━━━━━━━━━━━━━━\u001b[0m \u001b[32m12.0/12.0 MB\u001b[0m \u001b[31m25.4 MB/s\u001b[0m eta \u001b[36m0:00:00\u001b[0m\n",
            "\u001b[?25h"
          ]
        }
      ],
      "source": [
        "!pip install --upgrade google-api-python-client google-auth-httplib2 google-auth-oauthlib --quiet"
      ]
    },
    {
      "cell_type": "code",
      "source": [
        "!pip install langchain sentence-transformers faiss-gpu bitsandbytes transformers safetensors ctransformers xformer einops accelerate --quiet"
      ],
      "metadata": {
        "colab": {
          "base_uri": "https://localhost:8080/"
        },
        "id": "yKo1GfM5c6ct",
        "outputId": "42950dcd-4b5f-4ccd-cb6a-f8127ffabc33"
      },
      "execution_count": 2,
      "outputs": [
        {
          "output_type": "stream",
          "name": "stdout",
          "text": [
            "\u001b[?25l     \u001b[90m━━━━━━━━━━━━━━━━━━━━━━━━━━━━━━━━━━━━━━━━\u001b[0m \u001b[32m0.0/803.6 kB\u001b[0m \u001b[31m?\u001b[0m eta \u001b[36m-:--:--\u001b[0m\r\u001b[2K     \u001b[91m━━━\u001b[0m\u001b[91m╸\u001b[0m\u001b[90m━━━━━━━━━━━━━━━━━━━━━━━━━━━━━━━━━━━━\u001b[0m \u001b[32m71.7/803.6 kB\u001b[0m \u001b[31m1.8 MB/s\u001b[0m eta \u001b[36m0:00:01\u001b[0m\r\u001b[2K     \u001b[91m━━━━━━━━━━━━━━━━━━━━━━━━\u001b[0m\u001b[91m╸\u001b[0m\u001b[90m━━━━━━━━━━━━━━━\u001b[0m \u001b[32m501.8/803.6 kB\u001b[0m \u001b[31m6.9 MB/s\u001b[0m eta \u001b[36m0:00:01\u001b[0m\r\u001b[2K     \u001b[90m━━━━━━━━━━━━━━━━━━━━━━━━━━━━━━━━━━━━━━━━\u001b[0m \u001b[32m803.6/803.6 kB\u001b[0m \u001b[31m7.6 MB/s\u001b[0m eta \u001b[36m0:00:00\u001b[0m\n",
            "\u001b[2K     \u001b[90m━━━━━━━━━━━━━━━━━━━━━━━━━━━━━━━━━━━━━━━━\u001b[0m \u001b[32m132.8/132.8 kB\u001b[0m \u001b[31m12.9 MB/s\u001b[0m eta \u001b[36m0:00:00\u001b[0m\n",
            "\u001b[2K     \u001b[90m━━━━━━━━━━━━━━━━━━━━━━━━━━━━━━━━━━━━━━━━\u001b[0m \u001b[32m85.5/85.5 MB\u001b[0m \u001b[31m9.2 MB/s\u001b[0m eta \u001b[36m0:00:00\u001b[0m\n",
            "\u001b[2K     \u001b[90m━━━━━━━━━━━━━━━━━━━━━━━━━━━━━━━━━━━━━━━━\u001b[0m \u001b[32m105.0/105.0 MB\u001b[0m \u001b[31m8.7 MB/s\u001b[0m eta \u001b[36m0:00:00\u001b[0m\n",
            "\u001b[2K     \u001b[90m━━━━━━━━━━━━━━━━━━━━━━━━━━━━━━━━━━━━━━━━\u001b[0m \u001b[32m9.9/9.9 MB\u001b[0m \u001b[31m39.3 MB/s\u001b[0m eta \u001b[36m0:00:00\u001b[0m\n",
            "\u001b[2K     \u001b[90m━━━━━━━━━━━━━━━━━━━━━━━━━━━━━━━━━━━━━━━━\u001b[0m \u001b[32m44.6/44.6 kB\u001b[0m \u001b[31m2.6 MB/s\u001b[0m eta \u001b[36m0:00:00\u001b[0m\n",
            "\u001b[2K     \u001b[90m━━━━━━━━━━━━━━━━━━━━━━━━━━━━━━━━━━━━━━━━\u001b[0m \u001b[32m270.9/270.9 kB\u001b[0m \u001b[31m19.1 MB/s\u001b[0m eta \u001b[36m0:00:00\u001b[0m\n",
            "\u001b[2K     \u001b[90m━━━━━━━━━━━━━━━━━━━━━━━━━━━━━━━━━━━━━━━━\u001b[0m \u001b[32m1.6/1.6 MB\u001b[0m \u001b[31m43.2 MB/s\u001b[0m eta \u001b[36m0:00:00\u001b[0m\n",
            "\u001b[2K     \u001b[90m━━━━━━━━━━━━━━━━━━━━━━━━━━━━━━━━━━━━━━━━\u001b[0m \u001b[32m235.9/235.9 kB\u001b[0m \u001b[31m17.7 MB/s\u001b[0m eta \u001b[36m0:00:00\u001b[0m\n",
            "\u001b[2K     \u001b[90m━━━━━━━━━━━━━━━━━━━━━━━━━━━━━━━━━━━━━━━━\u001b[0m \u001b[32m54.0/54.0 kB\u001b[0m \u001b[31m5.3 MB/s\u001b[0m eta \u001b[36m0:00:00\u001b[0m\n",
            "\u001b[2K     \u001b[90m━━━━━━━━━━━━━━━━━━━━━━━━━━━━━━━━━━━━━━━━\u001b[0m \u001b[32m49.4/49.4 kB\u001b[0m \u001b[31m2.5 MB/s\u001b[0m eta \u001b[36m0:00:00\u001b[0m\n",
            "\u001b[?25h"
          ]
        }
      ]
    },
    {
      "cell_type": "code",
      "source": [
        "from base64 import urlsafe_b64decode\n",
        "from __future__ import print_function\n",
        "\n",
        "import os.path\n",
        "\n",
        "from google.auth.transport.requests import Request\n",
        "from google.oauth2.credentials import Credentials\n",
        "from google_auth_oauthlib.flow import InstalledAppFlow\n",
        "from googleapiclient.discovery import build\n",
        "from googleapiclient.errors import HttpError"
      ],
      "metadata": {
        "id": "-h4jZJI1dF_m"
      },
      "execution_count": 3,
      "outputs": []
    },
    {
      "cell_type": "markdown",
      "source": [
        "# Access gmail API\n",
        "\n",
        "See for how to connect to the API\n",
        "\n",
        "https://www.geeksforgeeks.org/how-to-read-emails-from-gmail-using-gmail-api-in-python/.\n",
        "\n",
        "You will need to save the `credentials.json`"
      ],
      "metadata": {
        "id": "VYTdr2bjdPB6"
      }
    },
    {
      "cell_type": "code",
      "source": [
        "# If modifying these scopes, delete the file token.json.\n",
        "SCOPES = ['https://www.googleapis.com/auth/gmail.readonly']\n",
        "\n",
        "\n",
        "def get_service():\n",
        "    \"\"\"Shows basic usage of the Gmail API.\n",
        "    Lists the user's Gmail labels.\n",
        "    \"\"\"\n",
        "    creds = None\n",
        "    # The file token.json stores the user's access and refresh tokens, and is\n",
        "    # created automatically when the authorization flow completes for the first\n",
        "    # time.\n",
        "    if os.path.exists('token.json'):\n",
        "        creds = Credentials.from_authorized_user_file('token.json', SCOPES)\n",
        "    # If there are no (valid) credentials available, let the user log in.\n",
        "    if not creds or not creds.valid:\n",
        "        if creds and creds.expired and creds.refresh_token:\n",
        "            creds.refresh(Request())\n",
        "        else:\n",
        "            flow = InstalledAppFlow.from_client_secrets_file(\n",
        "                'credentials.json', SCOPES)\n",
        "            creds = flow.run_local_server(port=0)\n",
        "        # Save the credentials for the next run\n",
        "        with open('token.json', 'w') as token:\n",
        "            token.write(creds.to_json())\n",
        "\n",
        "    try:\n",
        "        # Call the Gmail API\n",
        "        service = build('gmail', 'v1', credentials=creds)\n",
        "        return service\n",
        "\n",
        "    except HttpError as error:\n",
        "        # TODO(developer) - Handle errors from gmail API.\n",
        "        print(f'An error occurred: {error}')\n"
      ],
      "metadata": {
        "id": "pwTePa0cdINx"
      },
      "execution_count": 4,
      "outputs": []
    },
    {
      "cell_type": "code",
      "source": [
        "service = get_service()"
      ],
      "metadata": {
        "id": "i9AWiwhudekR"
      },
      "execution_count": 5,
      "outputs": []
    },
    {
      "cell_type": "code",
      "source": [
        "def parse_parts(service, parts, filename, message, text, show_mail: bool = False):\n",
        "    \"\"\"\n",
        "    Utility function that parses the content of an email partition\n",
        "    \"\"\"\n",
        "    if parts:\n",
        "        for part in parts:\n",
        "            mimeType = part.get(\"mimeType\")\n",
        "            body = part.get(\"body\")\n",
        "            data = body.get(\"data\")\n",
        "            file_size = body.get(\"size\")\n",
        "            part_headers = part.get(\"headers\")\n",
        "            if part.get(\"parts\"):\n",
        "                # recursively call this function when we see that a part\n",
        "                # has parts inside\n",
        "                parse_parts(service, part.get(\"parts\"), filename, message, show_mail)\n",
        "            if mimeType == \"text/plain\":\n",
        "                # if the email part is text plain\n",
        "                filepath = os.path.join(\"emails\", filename)\n",
        "                if data:\n",
        "                    try:\n",
        "                        with open(filepath, \"wb\") as f:\n",
        "                            email_text = text + urlsafe_b64decode(data).decode()\n",
        "                            f.write(email_text.encode('utf-8'))\n",
        "                    except Exception as e:\n",
        "                        print(f\"Error while saving mail {filename} : {e}\")"
      ],
      "metadata": {
        "id": "pb76NP7hhnAO"
      },
      "execution_count": 36,
      "outputs": []
    },
    {
      "cell_type": "code",
      "source": [
        "def read_message(service, message, show_mail: bool = False):\n",
        "    \"\"\"\n",
        "    This function takes Gmail API `service` and the given `message_id` and does the following:\n",
        "        - Downloads the content of the email\n",
        "        - Prints email basic information (To, From, Subject & Date) and plain/text parts\n",
        "        - Creates a folder for each email based on the subject\n",
        "        - Downloads text/html content (if available) and saves it under the folder created as index.html\n",
        "        - Downloads any file that is attached to the email and saves it in the folder created\n",
        "    \"\"\"\n",
        "    msg = service.users().messages().get(userId='me', id=message['id'], format='full').execute()\n",
        "    # parts can be the message body, or attachments\n",
        "    payload = msg['payload']\n",
        "    headers = payload.get(\"headers\")\n",
        "    parts = payload.get(\"parts\")\n",
        "    filename = message[\"id\"]\n",
        "    text = ''\n",
        "    if headers:\n",
        "        # this section prints email basic info & creates a folder for the email\n",
        "        for header in headers:\n",
        "            name = header.get(\"name\")\n",
        "            value = header.get(\"value\")\n",
        "            if name.lower() == 'from':\n",
        "                # we print the From address\n",
        "                text += f\"From: {value} \\n\"\n",
        "                if show_mail:\n",
        "                    print(\"From:\", value)\n",
        "            if name.lower() == \"to\":\n",
        "                # we print the To address\n",
        "                text += f\"To: {value} \\n\"\n",
        "                if show_mail:\n",
        "                    print(\"To:\", value)\n",
        "            if name.lower() == \"date\":\n",
        "                # we print the date when the message was sent\n",
        "                text += f\"Date: {value} \\n\"\n",
        "                if show_mail:\n",
        "                    print(\"Date:\", value)\n",
        "            if name.lower() == \"subject\":\n",
        "                text += f\"Subject: {value} \\n\"\n",
        "                if show_mail:\n",
        "                    print(\"Subject:\", value)\n",
        "    filename = filename + \".txt\"\n",
        "    parse_parts(service, parts, filename, message, text, show_mail)"
      ],
      "metadata": {
        "id": "TL8UybGMhs8Y"
      },
      "execution_count": 37,
      "outputs": []
    },
    {
      "cell_type": "code",
      "source": [
        "def search_messages(service, query):\n",
        "    result = service.users().messages().list(userId='me',q=query).execute()\n",
        "    messages = [ ]\n",
        "    if 'messages' in result:\n",
        "        messages.extend(result['messages'])\n",
        "    while 'nextPageToken' in result:\n",
        "        page_token = result['nextPageToken']\n",
        "        result = service.users().messages().list(userId='me',q=query, pageToken=page_token).execute()\n",
        "        if 'messages' in result:\n",
        "            messages.extend(result['messages'])\n",
        "    return messages"
      ],
      "metadata": {
        "id": "fvuhy_WWhwvs"
      },
      "execution_count": 41,
      "outputs": []
    },
    {
      "cell_type": "code",
      "source": [
        "messages = search_messages(service, \"\")"
      ],
      "metadata": {
        "id": "Pbs2s-hVhyr0"
      },
      "execution_count": 42,
      "outputs": []
    },
    {
      "cell_type": "markdown",
      "source": [
        "Create a folder `emails` to save the mails."
      ],
      "metadata": {
        "id": "5bGGgQT5jG1I"
      }
    },
    {
      "cell_type": "code",
      "source": [
        "from tqdm import tqdm\n",
        "for message in tqdm(messages[:5]):\n",
        "    read_message(service, message)"
      ],
      "metadata": {
        "colab": {
          "base_uri": "https://localhost:8080/"
        },
        "id": "vVraoU3Xh4pe",
        "outputId": "86053897-6b79-427d-8122-3bf6b3f193f4"
      },
      "execution_count": 43,
      "outputs": [
        {
          "output_type": "stream",
          "name": "stderr",
          "text": [
            "100%|██████████| 5/5 [00:01<00:00,  3.24it/s]\n"
          ]
        }
      ]
    }
  ]
}