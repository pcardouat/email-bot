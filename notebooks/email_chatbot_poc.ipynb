{
  "nbformat": 4,
  "nbformat_minor": 0,
  "metadata": {
    "colab": {
      "provenance": []
    },
    "kernelspec": {
      "name": "python3",
      "display_name": "Python 3"
    },
    "language_info": {
      "name": "python"
    }
  },
  "cells": [
    {
      "cell_type": "code",
      "execution_count": 1,
      "metadata": {
        "id": "TNyL03f6bM4M",
        "colab": {
          "base_uri": "https://localhost:8080/"
        },
        "outputId": "7b99033e-c1d3-48fd-b2c0-9efa839a618e"
      },
      "outputs": [
        {
          "output_type": "stream",
          "name": "stdout",
          "text": [
            "\u001b[2K     \u001b[90m━━━━━━━━━━━━━━━━━━━━━━━━━━━━━━━━━━━━━━━━\u001b[0m \u001b[32m12.0/12.0 MB\u001b[0m \u001b[31m17.1 MB/s\u001b[0m eta \u001b[36m0:00:00\u001b[0m\n",
            "\u001b[?25h"
          ]
        }
      ],
      "source": [
        "!pip install --upgrade google-api-python-client google-auth-httplib2 google-auth-oauthlib --quiet"
      ]
    },
    {
      "cell_type": "code",
      "source": [
        "!pip install langchain sentence-transformers faiss-gpu bitsandbytes transformers safetensors ctransformers xformer einops accelerate --quiet"
      ],
      "metadata": {
        "colab": {
          "base_uri": "https://localhost:8080/"
        },
        "id": "yKo1GfM5c6ct",
        "outputId": "35c31749-d72e-40af-cb7a-d5940b239a39"
      },
      "execution_count": 2,
      "outputs": [
        {
          "output_type": "stream",
          "name": "stdout",
          "text": [
            "\u001b[2K     \u001b[90m━━━━━━━━━━━━━━━━━━━━━━━━━━━━━━━━━━━━━━━━\u001b[0m \u001b[32m803.6/803.6 kB\u001b[0m \u001b[31m8.2 MB/s\u001b[0m eta \u001b[36m0:00:00\u001b[0m\n",
            "\u001b[2K     \u001b[90m━━━━━━━━━━━━━━━━━━━━━━━━━━━━━━━━━━━━━━━━\u001b[0m \u001b[32m86.0/86.0 kB\u001b[0m \u001b[31m7.7 MB/s\u001b[0m eta \u001b[36m0:00:00\u001b[0m\n",
            "\u001b[?25h  Preparing metadata (setup.py) ... \u001b[?25l\u001b[?25hdone\n",
            "\u001b[2K     \u001b[90m━━━━━━━━━━━━━━━━━━━━━━━━━━━━━━━━━━━━━━━━\u001b[0m \u001b[32m85.5/85.5 MB\u001b[0m \u001b[31m7.7 MB/s\u001b[0m eta \u001b[36m0:00:00\u001b[0m\n",
            "\u001b[2K     \u001b[90m━━━━━━━━━━━━━━━━━━━━━━━━━━━━━━━━━━━━━━━━\u001b[0m \u001b[32m105.0/105.0 MB\u001b[0m \u001b[31m8.6 MB/s\u001b[0m eta \u001b[36m0:00:00\u001b[0m\n",
            "\u001b[2K     \u001b[90m━━━━━━━━━━━━━━━━━━━━━━━━━━━━━━━━━━━━━━━━\u001b[0m \u001b[32m9.9/9.9 MB\u001b[0m \u001b[31m78.5 MB/s\u001b[0m eta \u001b[36m0:00:00\u001b[0m\n",
            "\u001b[2K     \u001b[90m━━━━━━━━━━━━━━━━━━━━━━━━━━━━━━━━━━━━━━━━\u001b[0m \u001b[32m44.6/44.6 kB\u001b[0m \u001b[31m3.5 MB/s\u001b[0m eta \u001b[36m0:00:00\u001b[0m\n",
            "\u001b[2K     \u001b[90m━━━━━━━━━━━━━━━━━━━━━━━━━━━━━━━━━━━━━━━━\u001b[0m \u001b[32m270.9/270.9 kB\u001b[0m \u001b[31m19.3 MB/s\u001b[0m eta \u001b[36m0:00:00\u001b[0m\n",
            "\u001b[2K     \u001b[90m━━━━━━━━━━━━━━━━━━━━━━━━━━━━━━━━━━━━━━━━\u001b[0m \u001b[32m1.6/1.6 MB\u001b[0m \u001b[31m60.6 MB/s\u001b[0m eta \u001b[36m0:00:00\u001b[0m\n",
            "\u001b[2K     \u001b[90m━━━━━━━━━━━━━━━━━━━━━━━━━━━━━━━━━━━━━━━━\u001b[0m \u001b[32m229.6/229.6 kB\u001b[0m \u001b[31m18.7 MB/s\u001b[0m eta \u001b[36m0:00:00\u001b[0m\n",
            "\u001b[2K     \u001b[90m━━━━━━━━━━━━━━━━━━━━━━━━━━━━━━━━━━━━━━━━\u001b[0m \u001b[32m49.3/49.3 kB\u001b[0m \u001b[31m5.5 MB/s\u001b[0m eta \u001b[36m0:00:00\u001b[0m\n",
            "\u001b[2K     \u001b[90m━━━━━━━━━━━━━━━━━━━━━━━━━━━━━━━━━━━━━━━━\u001b[0m \u001b[32m1.3/1.3 MB\u001b[0m \u001b[31m63.5 MB/s\u001b[0m eta \u001b[36m0:00:00\u001b[0m\n",
            "\u001b[2K     \u001b[90m━━━━━━━━━━━━━━━━━━━━━━━━━━━━━━━━━━━━━━━━\u001b[0m \u001b[32m49.4/49.4 kB\u001b[0m \u001b[31m5.3 MB/s\u001b[0m eta \u001b[36m0:00:00\u001b[0m\n",
            "\u001b[?25h  Building wheel for sentence-transformers (setup.py) ... \u001b[?25l\u001b[?25hdone\n"
          ]
        }
      ]
    },
    {
      "cell_type": "code",
      "source": [
        "from base64 import urlsafe_b64decode\n",
        "from __future__ import print_function\n",
        "\n",
        "import os.path\n",
        "\n",
        "from google.auth.transport.requests import Request\n",
        "from google.oauth2.credentials import Credentials\n",
        "from google_auth_oauthlib.flow import InstalledAppFlow\n",
        "from googleapiclient.discovery import build\n",
        "from googleapiclient.errors import HttpError"
      ],
      "metadata": {
        "id": "-h4jZJI1dF_m"
      },
      "execution_count": 3,
      "outputs": []
    },
    {
      "cell_type": "markdown",
      "source": [
        "# Access gmail API\n",
        "\n",
        "See for how to connect to the API\n",
        "\n",
        "https://www.geeksforgeeks.org/how-to-read-emails-from-gmail-using-gmail-api-in-python/.\n",
        "\n",
        "You will need to save the `credentials.json`"
      ],
      "metadata": {
        "id": "VYTdr2bjdPB6"
      }
    },
    {
      "cell_type": "code",
      "source": [
        "# If modifying these scopes, delete the file token.json.\n",
        "SCOPES = ['https://www.googleapis.com/auth/gmail.readonly']\n",
        "\n",
        "\n",
        "def get_service():\n",
        "    \"\"\"Shows basic usage of the Gmail API.\n",
        "    Lists the user's Gmail labels.\n",
        "    \"\"\"\n",
        "    creds = None\n",
        "    # The file token.json stores the user's access and refresh tokens, and is\n",
        "    # created automatically when the authorization flow completes for the first\n",
        "    # time.\n",
        "    if os.path.exists('token.json'):\n",
        "        creds = Credentials.from_authorized_user_file('token.json', SCOPES)\n",
        "    # If there are no (valid) credentials available, let the user log in.\n",
        "    if not creds or not creds.valid:\n",
        "        if creds and creds.expired and creds.refresh_token:\n",
        "            creds.refresh(Request())\n",
        "        else:\n",
        "            flow = InstalledAppFlow.from_client_secrets_file(\n",
        "                'credentials.json', SCOPES)\n",
        "            creds = flow.run_local_server(port=0)\n",
        "        # Save the credentials for the next run\n",
        "        with open('token.json', 'w') as token:\n",
        "            token.write(creds.to_json())\n",
        "\n",
        "    try:\n",
        "        # Call the Gmail API\n",
        "        service = build('gmail', 'v1', credentials=creds)\n",
        "        return service\n",
        "\n",
        "    except HttpError as error:\n",
        "        # TODO(developer) - Handle errors from gmail API.\n",
        "        print(f'An error occurred: {error}')\n"
      ],
      "metadata": {
        "id": "pwTePa0cdINx"
      },
      "execution_count": 10,
      "outputs": []
    },
    {
      "cell_type": "code",
      "source": [
        "service = get_service()"
      ],
      "metadata": {
        "id": "i9AWiwhudekR"
      },
      "execution_count": 11,
      "outputs": []
    },
    {
      "cell_type": "code",
      "source": [
        "# utility functions\n",
        "def get_size_format(b, factor=1024, suffix=\"B\"):\n",
        "    \"\"\"\n",
        "    Scale bytes to its proper byte format\n",
        "    e.g:\n",
        "        1253656 => '1.20MB'\n",
        "        1253656678 => '1.17GB'\n",
        "    \"\"\"\n",
        "    for unit in [\"\", \"K\", \"M\", \"G\", \"T\", \"P\", \"E\", \"Z\"]:\n",
        "        if b < factor:\n",
        "            return f\"{b:.2f}{unit}{suffix}\"\n",
        "        b /= factor\n",
        "    return f\"{b:.2f}Y{suffix}\"\n",
        "\n",
        "\n",
        "def clean(text):\n",
        "    # clean text for creating a folder\n",
        "    return \"\".join(c if c.isalnum() else \"_\" for c in text)"
      ],
      "metadata": {
        "id": "I6_oymX_hj4K"
      },
      "execution_count": 12,
      "outputs": []
    },
    {
      "cell_type": "code",
      "source": [
        "def parse_parts(service, parts, filename, message, text, show_mail: bool = False):\n",
        "    \"\"\"\n",
        "    Utility function that parses the content of an email partition\n",
        "    \"\"\"\n",
        "    if parts:\n",
        "        for part in parts:\n",
        "            mimeType = part.get(\"mimeType\")\n",
        "            body = part.get(\"body\")\n",
        "            data = body.get(\"data\")\n",
        "            file_size = body.get(\"size\")\n",
        "            part_headers = part.get(\"headers\")\n",
        "            if part.get(\"parts\"):\n",
        "                # recursively call this function when we see that a part\n",
        "                # has parts inside\n",
        "                parse_parts(service, part.get(\"parts\"), filename, message, show_mail)\n",
        "            if mimeType == \"text/plain\":\n",
        "                # if the email part is text plain\n",
        "                filepath = os.path.join(\"emails_txt\", filename)\n",
        "                if data:\n",
        "                    try:\n",
        "                        with open(filepath, \"wb\") as f:\n",
        "                            email_text = text + urlsafe_b64decode(data).decode()\n",
        "                            f.write(email_text.encode('utf-8'))\n",
        "                    except Exception as e:\n",
        "                        print(f\"Error while saving mail {filename} : {e}\")\n",
        "            # elif mimeType == \"text/html\":\n",
        "            #     # if the email part is an HTML content\n",
        "            #     # save the HTML file and optionally open it in the browser\n",
        "            #     filepath = os.path.join(\"emails\", filename)\n",
        "            #     try:\n",
        "            #         with open(filepath, \"wb\") as f:\n",
        "            #             f.write(urlsafe_b64decode(data))\n",
        "            #     except TypeError as err:\n",
        "            #         print(f\"Error while saving mail {filename} : {err}\")\n",
        "            # else:\n",
        "            #     # attachment other than a plain text or HTML\n",
        "            #     for part_header in part_headers:\n",
        "            #         part_header_name = part_header.get(\"name\")\n",
        "            #         part_header_value = part_header.get(\"value\")\n",
        "            #         if part_header_name == \"Content-Disposition\":\n",
        "            #             if \"attachment\" in part_header_value:\n",
        "            #                 # we get the attachment ID\n",
        "            #                 # and make another request to get the attachment itself\n",
        "            #                 attachment_id = body.get(\"attachmentId\")\n",
        "            #                 attachment = service.users().messages() \\\n",
        "            #                             .attachments().get(id=attachment_id, userId='me', messageId=message['id']).execute()\n",
        "            #                 data = attachment.get(\"data\")\n",
        "            #                 filepath = os.path.join(\"emails\", filename)\n",
        "            #                 if data:\n",
        "            #                     with open(filepath, \"wb\") as f:\n",
        "            #                         f.write(urlsafe_b64decode(data))"
      ],
      "metadata": {
        "id": "pb76NP7hhnAO"
      },
      "execution_count": 13,
      "outputs": []
    },
    {
      "cell_type": "code",
      "source": [
        "def read_message(service, message, show_mail: bool = False):\n",
        "    \"\"\"\n",
        "    This function takes Gmail API `service` and the given `message_id` and does the following:\n",
        "        - Downloads the content of the email\n",
        "        - Prints email basic information (To, From, Subject & Date) and plain/text parts\n",
        "        - Creates a folder for each email based on the subject\n",
        "        - Downloads text/html content (if available) and saves it under the folder created as index.html\n",
        "        - Downloads any file that is attached to the email and saves it in the folder created\n",
        "    \"\"\"\n",
        "    msg = service.users().messages().get(userId='me', id=message['id'], format='full').execute()\n",
        "    # parts can be the message body, or attachments\n",
        "    payload = msg['payload']\n",
        "    headers = payload.get(\"headers\")\n",
        "    parts = payload.get(\"parts\")\n",
        "    filename = message[\"id\"]\n",
        "    has_subject = False\n",
        "    text = ''\n",
        "    if headers:\n",
        "        # this section prints email basic info & creates a folder for the email\n",
        "        for header in headers:\n",
        "            name = header.get(\"name\")\n",
        "            value = header.get(\"value\")\n",
        "            if name.lower() == 'from':\n",
        "                # we print the From address\n",
        "                text += f\"From: {value} \\n\"\n",
        "                if show_mail:\n",
        "                    print(\"From:\", value)\n",
        "            if name.lower() == \"to\":\n",
        "                # we print the To address\n",
        "                text += f\"To: {value} \\n\"\n",
        "                if show_mail:\n",
        "                    print(\"To:\", value)\n",
        "            if name.lower() == \"date\":\n",
        "                # we print the date when the message was sent\n",
        "                text += f\"Date: {value} \\n\"\n",
        "                if show_mail:\n",
        "                    print(\"Date:\", value)\n",
        "            if name.lower() == \"subject\":\n",
        "                # make our boolean True, the email has \"subject\"\n",
        "                has_subject = True\n",
        "                # make a directory with the name of the subject\n",
        "                filename = clean(value + \"_\" + message['id'])\n",
        "                text += f\"Subject: {value} \\n\"\n",
        "                if show_mail:\n",
        "                    print(\"Subject:\", value)\n",
        "    filename = filename + \".md\"\n",
        "    parse_parts(service, parts, filename, message, text, show_mail)"
      ],
      "metadata": {
        "id": "TL8UybGMhs8Y"
      },
      "execution_count": 14,
      "outputs": []
    },
    {
      "cell_type": "code",
      "source": [
        "def search_messages(service, query):\n",
        "    result = service.users().messages().list(userId='me',q=query).execute()\n",
        "    messages = [ ]\n",
        "    if 'messages' in result:\n",
        "        messages.extend(result['messages'])\n",
        "    while 'nextPageToken' in result:\n",
        "        page_token = result['nextPageToken']\n",
        "        result = service.users().messages().list(userId='me',q=query, pageToken=page_token).execute()\n",
        "        if 'messages' in result:\n",
        "            messages.extend(result['messages'])\n",
        "    return messages"
      ],
      "metadata": {
        "id": "fvuhy_WWhwvs"
      },
      "execution_count": 15,
      "outputs": []
    },
    {
      "cell_type": "code",
      "source": [
        "messages = search_messages(service, \"\")"
      ],
      "metadata": {
        "id": "Pbs2s-hVhyr0"
      },
      "execution_count": 24,
      "outputs": []
    },
    {
      "cell_type": "markdown",
      "source": [
        "Create a folder `email_txt` to save the mails."
      ],
      "metadata": {
        "id": "5bGGgQT5jG1I"
      }
    },
    {
      "cell_type": "code",
      "source": [
        "from tqdm import tqdm\n",
        "for message in tqdm(messages[:10]):\n",
        "    read_message(service, message)"
      ],
      "metadata": {
        "colab": {
          "base_uri": "https://localhost:8080/"
        },
        "id": "vVraoU3Xh4pe",
        "outputId": "680ea439-7267-4225-a131-22cbf2540131"
      },
      "execution_count": 28,
      "outputs": [
        {
          "output_type": "stream",
          "name": "stderr",
          "text": [
            "\n",
            "  0%|          | 0/10 [00:00<?, ?it/s]\u001b[A\n",
            " 10%|█         | 1/10 [00:00<00:01,  7.66it/s]\u001b[A\n",
            " 20%|██        | 2/10 [00:00<00:01,  7.55it/s]\u001b[A\n",
            " 30%|███       | 3/10 [00:00<00:00,  7.18it/s]\u001b[A\n",
            " 40%|████      | 4/10 [00:00<00:00,  7.18it/s]\u001b[A\n",
            " 50%|█████     | 5/10 [00:00<00:00,  7.07it/s]\u001b[A\n",
            " 60%|██████    | 6/10 [00:00<00:00,  7.00it/s]\u001b[A\n",
            " 70%|███████   | 7/10 [00:00<00:00,  7.23it/s]\u001b[A\n",
            " 80%|████████  | 8/10 [00:01<00:00,  7.10it/s]\u001b[A\n",
            " 90%|█████████ | 9/10 [00:01<00:00,  7.15it/s]\u001b[A\n",
            "100%|██████████| 10/10 [00:01<00:00,  7.08it/s]\n"
          ]
        }
      ]
    }
  ]
}